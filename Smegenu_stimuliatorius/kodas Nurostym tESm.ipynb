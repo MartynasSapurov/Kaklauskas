{
 "cells": [
  {
   "cell_type": "code",
   "execution_count": 135,
   "id": "306a3d82",
   "metadata": {},
   "outputs": [
    {
     "name": "stdout",
     "output_type": "stream",
     "text": [
      "COM4: STMicroelectronics Virtual COM Port (COM4) [USB VID:PID=0483:5740 SER=2081305A5632 LOCATION=1-3]\n",
      "COM4 is open\n",
      "b'OK\\r\\n'\n",
      "b'OK\\r\\n'\n"
     ]
    }
   ],
   "source": [
    "import serial.tools.list_ports\n",
    "ports = serial.tools.list_ports.comports()\n",
    "\n",
    "for port, desc, hwid in sorted(ports):\n",
    "    print(\"{}: {} [{}]\".format(port, desc, hwid))\n",
    "    MyPort = port\n",
    "\n",
    "ser = serial.Serial(port=MyPort, baudrate=9600)\n",
    "\n",
    "cmd_get_mode = ':MODE?\\r\\n'\n",
    "cmd_get_freq = ':MODE:FREQ?\\r\\n'\n",
    "cmd_get_stat = ':STIM:STAT?\\r\\n' # Statistikos nuskaitymo komanda\n",
    "\n",
    "cmd_set_preset = ':MODE:PRST ' + str(1) + '\\r\\n' # nuo 1 iki 8 (Rankiniu bubu ivesti presetai, ziureti komenta apacioje)\n",
    "cmd_set_custom = ':MODE:PRST 0\\r\\n' # set preset to custom frequency modification (PRST 0)\n",
    "cmd_set_mode = ':MODE TACS\\r\\n'\n",
    "cmd_set_freq = ':MODE:FREQ ' + str(4) + '\\r\\n' # Cia nustatome dazni, Hz\n",
    "cmd_set_start = ':STIM:STRT \\r\\n'\n",
    "cmd_set_stop_with_fade_out = ':STIM:CNCL \\r\\n' # Stop with fade-out (remember the single trailing space)\n",
    "cmd_set_stop = ':STIM:STOP \\r\\n' # Stop without fade-out (remember the single trailing space)\n",
    "\n",
    "# if ser.isOpen(): # sitas paleidzia stimuliavima pagal dabar ivedama dazni\n",
    "#     print(ser.name + ' is open')\n",
    "    \n",
    "#     ser.write(cmd_set_custom.encode('ascii')) # set preset 0 for custom frequency\n",
    "#     line = ser.readline()\n",
    "#     print(line)\n",
    "    \n",
    "#     ser.write(cmd_set_mode.encode('ascii')) # set mode\n",
    "#     line = ser.readline()\n",
    "#     print(line)\n",
    "    \n",
    "#     ser.write(cmd_set_freq.encode('ascii')) # set freq\n",
    "#     line = ser.readline()\n",
    "#     print(line)\n",
    "    \n",
    "#     ser.write(cmd_set_start.encode('ascii')) # set start\n",
    "#     line = ser.readline()\n",
    "#     print(line)\n",
    "    \n",
    "if ser.isOpen(): # sitas paleidzia stimuliavima pagal custom preset, 1 to 8\n",
    "    print(ser.name + ' is open')\n",
    "    \n",
    "    ser.write(cmd_set_preset.encode('ascii')) # set preset X = 1 to 8\n",
    "    line = ser.readline()\n",
    "    print(line)\n",
    "    \n",
    "    ser.write(cmd_set_start.encode('ascii')) # set start\n",
    "    line = ser.readline()\n",
    "    print(line)\n",
    "    \n",
    "# ser.close()"
   ]
  },
  {
   "cell_type": "code",
   "execution_count": 155,
   "id": "32163e2b",
   "metadata": {},
   "outputs": [
    {
     "name": "stdout",
     "output_type": "stream",
     "text": [
      "b'2 1206587 2006 -3 8.7 4.4 512 0\\r\\n'\n"
     ]
    }
   ],
   "source": [
    "ser.write(cmd_get_stat.encode('ascii')) # Statistikos nuskaitymo komanda\n",
    "line = ser.readline()\n",
    "print(line)"
   ]
  },
  {
   "cell_type": "code",
   "execution_count": 156,
   "id": "95a3c2ee",
   "metadata": {},
   "outputs": [
    {
     "name": "stdout",
     "output_type": "stream",
     "text": [
      "b'0.50\\r\\n'\n"
     ]
    }
   ],
   "source": [
    "ser.write(cmd_get_freq.encode('ascii')) # nuskaitome dazni, kokiu dabar stimuliuojame\n",
    "line = ser.readline()\n",
    "print(line)"
   ]
  },
  {
   "cell_type": "code",
   "execution_count": 157,
   "id": "2f222f27",
   "metadata": {},
   "outputs": [
    {
     "name": "stdout",
     "output_type": "stream",
     "text": [
      "b'OK\\r\\n'\n"
     ]
    }
   ],
   "source": [
    "ser.write(cmd_set_stop.encode('ascii')) # Stop without fade-out\n",
    "line = ser.readline()\n",
    "print(line)"
   ]
  },
  {
   "cell_type": "code",
   "execution_count": 134,
   "id": "89bd4d24",
   "metadata": {},
   "outputs": [],
   "source": [
    "ser.close()"
   ]
  },
  {
   "cell_type": "code",
   "execution_count": 130,
   "id": "6888e858",
   "metadata": {},
   "outputs": [
    {
     "name": "stdout",
     "output_type": "stream",
     "text": [
      "4.00\r\n",
      "\n"
     ]
    }
   ],
   "source": [
    "stat = line.decode('ascii')\n",
    "print(stat)"
   ]
  },
  {
   "cell_type": "code",
   "execution_count": null,
   "id": "1a05a8bc",
   "metadata": {},
   "outputs": [],
   "source": [
    "# Is manualo:\n",
    "\n",
    "# Darbo rezimai 3:\n",
    "\n",
    "# tDCS (transcranial direct current stimulation)\n",
    "# \tCurrent amplitude\tThe value range for Amplitude is between 100μA and 5000μA.\n",
    "\n",
    "# tACS (transcranial alternating current stimulation)\n",
    "# Current amplitude\n",
    "# \tFrequency\t\t600Hz max\n",
    "# \tOffset\t\t\tThe offset parameter is only available for tACS.\n",
    "# \tEnvelope Amplitude\tEnvelope amplitude is the depth of modulation of the tACS signal\n",
    "# \tEnvelope Frequency \tf/2, but not higher than 100Hz max\n",
    "\n",
    "# tRNS (transcranial random noise stimulation) \n",
    "# \tHighpass Filter: None 50 100 250\n",
    "# \tLowpass Filter: None 100 250 640\n",
    "# \tNoise Type: Rectangular, Gaussian\n",
    "\n",
    "# ------------------------------------------------------------\n",
    "# Terminalo komandos:\n",
    "\n",
    "# Set:\n",
    "# :MODE TACS\n",
    "# :MODE:PRST 0\t\t1 to 8\tRun stimulation from preset\n",
    "# :MODE:FREQ 15\t\t\tSet freq 0.05 to 600 Hz\n",
    "# ----------\n",
    "# Read:\n",
    "# :MODE?\n",
    "# :MODE:AMP?\t\t2000\tCurrent amplitude\n",
    "# :MODE:FREQ?\t\t200\tFrequency\n",
    "# :MODE:MODU:FREQ?\t20\tEnvelope Frequency\n",
    "# :MODE:MODU:AMP?\t\t400\tEnvelope Amplitude\n",
    "# :MODE:TIME?\t\t\tTotal time set for stimulation\n",
    "# ----------\n",
    "# Run:\n",
    "\t\t\t\t\t\n",
    "# :STIM:STRT \t\t(remember the single trailing space)\n",
    "# :STIM:STAT?\t\tStatistikos nuskaitymo komanda\t\tPradzios komanda: 2 1180768 1990 -1 8.7 4.4 0 0\n",
    "# 2 The stimulation phase is normal stimulation. 1180768  ms of stimulation remain. Measured current is 1990 μA, offset is -1 μA, voltage is 8.7 V and impedance is 4.4 kΩ. Error code is 0 – meaning no errors. Mode is sham mode.\n",
    "# The stimulation phase is normal stimulation. 1000 ms of stimulation remain. Measured current is 2000 μA, offset is 100 μA, voltage is 14.0 V and impedance is 7.0 kΩ. Error code is 0 – meaning no errors. Mode is sham mode.\n",
    "# :STIM:CNCL \t\tStop with fade-out (remember the single trailing space)\n",
    "# :STIM:STOP \t\tStop without fade-out (remember the single trailing space)\n",
    "\n",
    "# Run from presets:\n",
    "# :MODE:PRST 1\t\t1 to 8\n",
    "# :STIM:STRT \t\t(remember space after cmd)\n",
    "# :STIM:CNCL \t\t(remember space after cmd)\n",
    "\n",
    "# Run on custom frequency:\n",
    "# :MODE:PRST 0\t\tset preset to custom (PRST 0)\n",
    "# :MODE TACS\t\tset mode to AC current stimulation)\n",
    "# :MODE:FREQ 15\t\tset frequency\n",
    "# :STIM:STRT \t\t(remember space after cmd)\n",
    "# :STIM:CNCL \t\t(remember space after cmd)\n",
    "# ----------\n",
    "\n",
    "# PRESETs:\n",
    "# 1) 0.5\tHz\n",
    "# 2) 1\tHz\n",
    "# 3) 4\tHz\n",
    "# 4) 7.5\tHz\n",
    "# 5) 10\tHz\n",
    "# 6) 12\tHz\n",
    "# 7) 15\tHz\n",
    "# 8) 35\tHz\n",
    "\n",
    "\n",
    "\n",
    "# ------------------------------------------------------------------------------\n",
    "\n",
    "\n",
    "\n",
    "\n",
    "\n"
   ]
  }
 ],
 "metadata": {
  "kernelspec": {
   "display_name": "Python 3 (ipykernel)",
   "language": "python",
   "name": "python3"
  },
  "language_info": {
   "codemirror_mode": {
    "name": "ipython",
    "version": 3
   },
   "file_extension": ".py",
   "mimetype": "text/x-python",
   "name": "python",
   "nbconvert_exporter": "python",
   "pygments_lexer": "ipython3",
   "version": "3.9.13"
  }
 },
 "nbformat": 4,
 "nbformat_minor": 5
}
